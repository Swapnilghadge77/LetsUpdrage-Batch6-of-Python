{
 "cells": [
  {
   "cell_type": "code",
   "execution_count": 1,
   "metadata": {},
   "outputs": [
    {
     "name": "stdout",
     "output_type": "stream",
     "text": [
      "welcome\n"
     ]
    }
   ],
   "source": [
    "print(\"welcome\")"
   ]
  },
  {
   "cell_type": "code",
   "execution_count": 2,
   "metadata": {},
   "outputs": [
    {
     "name": "stdout",
     "output_type": "stream",
     "text": [
      "city\n",
      "pune\n"
     ]
    }
   ],
   "source": [
    "print(\"city\\npune\")"
   ]
  },
  {
   "cell_type": "code",
   "execution_count": 3,
   "metadata": {},
   "outputs": [
    {
     "name": "stdout",
     "output_type": "stream",
     "text": [
      "letsupgrade's class \n"
     ]
    }
   ],
   "source": [
    "print(\"letsupgrade\\'s class \")"
   ]
  },
  {
   "cell_type": "code",
   "execution_count": 4,
   "metadata": {},
   "outputs": [
    {
     "name": "stdout",
     "output_type": "stream",
     "text": [
      "Class name is  LetsUpgrade New batch  6.0 timing is  11 am to 1 pm\n"
     ]
    }
   ],
   "source": [
    "name = \"LetsUpgrade\"\n",
    "batch = 6.00\n",
    "timing = \"11 am to 1 pm\"\n",
    "print(\"Class name is \",name,\"New batch \",batch,\"timing is \",timing)"
   ]
  },
  {
   "cell_type": "code",
   "execution_count": 5,
   "metadata": {},
   "outputs": [
    {
     "name": "stdout",
     "output_type": "stream",
     "text": [
      "The name is Swapnil and age is 25.00\n",
      "True\n"
     ]
    }
   ],
   "source": [
    "Name = \"Swapnil\"\n",
    "age = 25.0\n",
    "print(\"The name is %s and age is %0.2f\"%(Name,age))\n",
    "print(\"w\" in Name)"
   ]
  },
  {
   "cell_type": "code",
   "execution_count": 8,
   "metadata": {},
   "outputs": [
    {
     "name": "stdout",
     "output_type": "stream",
     "text": [
      "value of a  10\n",
      "a is equal to b ? True\n",
      "a is greter than b? False\n",
      "140734273856176\n",
      "140734273856176\n"
     ]
    }
   ],
   "source": [
    "a=b=c=10\n",
    "print(\"value of a \",a)\n",
    "print(\"a is equal to b ?\",a==b)\n",
    "print(\"a is greter than b?\",a>b)\n",
    "print(id(a))\n",
    "print(id(b))"
   ]
  },
  {
   "cell_type": "code",
   "execution_count": 9,
   "metadata": {},
   "outputs": [
    {
     "name": "stdout",
     "output_type": "stream",
     "text": [
      "4\n",
      "4\n",
      "19\n",
      "7\n",
      "2.5\n",
      "2\n",
      "1\n"
     ]
    }
   ],
   "source": [
    "# Arithmatics operators\n",
    "\n",
    "print(2**2)\n",
    "print(2*2)\n",
    "print(90-71)\n",
    "print(2+5)\n",
    "print(5/2)\n",
    "print(5//2)\n",
    "print(5%2)"
   ]
  },
  {
   "cell_type": "code",
   "execution_count": 10,
   "metadata": {},
   "outputs": [
    {
     "name": "stdout",
     "output_type": "stream",
     "text": [
      "False\n",
      "True\n",
      "False\n",
      "True\n",
      "True\n",
      "30\n",
      "0\n"
     ]
    }
   ],
   "source": [
    "# Variables\n",
    "\n",
    "a = 10\n",
    "b = 20\n",
    "c = 10\n",
    "print(a==b)\n",
    "print(a==c)\n",
    "print(a>b)\n",
    "print(a<b)\n",
    "print(a!=b)\n",
    "print(a|b) # Bitwise operators\n",
    "print(a&b) # Bitwise operators"
   ]
  }
 ],
 "metadata": {
  "kernelspec": {
   "display_name": "Python 3",
   "language": "python",
   "name": "python3"
  },
  "language_info": {
   "codemirror_mode": {
    "name": "ipython",
    "version": 3
   },
   "file_extension": ".py",
   "mimetype": "text/x-python",
   "name": "python",
   "nbconvert_exporter": "python",
   "pygments_lexer": "ipython3",
   "version": "3.7.6"
  }
 },
 "nbformat": 4,
 "nbformat_minor": 4
}
