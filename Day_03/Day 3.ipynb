{
 "cells": [
  {
   "cell_type": "markdown",
   "metadata": {},
   "source": [
    "# Question 1 : Find sum of n numbers with help of while loop."
   ]
  },
  {
   "cell_type": "code",
   "execution_count": 1,
   "metadata": {},
   "outputs": [
    {
     "name": "stdout",
     "output_type": "stream",
     "text": [
      "124\n"
     ]
    }
   ],
   "source": [
    "s = 70\n",
    "i = 2\n",
    "while i <= 10:\n",
    "    s += i\n",
    "    i += 1\n",
    "print(s)"
   ]
  },
  {
   "cell_type": "markdown",
   "metadata": {},
   "source": [
    "# Question 2 : Take an integer and find whether the number is prime or not."
   ]
  },
  {
   "cell_type": "code",
   "execution_count": 3,
   "metadata": {},
   "outputs": [
    {
     "name": "stdout",
     "output_type": "stream",
     "text": [
      "Enter the inetger: 2\n",
      "2 is a Prime Number\n"
     ]
    }
   ],
   "source": [
    "Num = int(input(\"Enter the inetger: \"))\n",
    "if Num>1:\n",
    "    for i in range(2,Num):\n",
    "        if (Num%i) ==0:\n",
    "            print(Num,\"is not a Prime Number\")\n",
    "            break\n",
    "    else:\n",
    "        print(Num,\"is a Prime Number\")\n",
    "else:\n",
    "    print(Num,\"is not a Prime Number\")"
   ]
  },
  {
   "cell_type": "code",
   "execution_count": 4,
   "metadata": {},
   "outputs": [
    {
     "name": "stdout",
     "output_type": "stream",
     "text": [
      "Enter the inetger: 15\n",
      "15 is not a Prime Number\n"
     ]
    }
   ],
   "source": [
    "Num = int(input(\"Enter the inetger: \"))\n",
    "if Num>1:\n",
    "    for i in range(2,Num):\n",
    "        if (Num%i) ==0:\n",
    "            print(Num,\"is not a Prime Number\")\n",
    "            break\n",
    "    else:\n",
    "        print(Num,\"is a Prime Number\")\n",
    "else:\n",
    "    print(Num,\"is not a Prime Number\")"
   ]
  }
 ],
 "metadata": {
  "kernelspec": {
   "display_name": "Python 3",
   "language": "python",
   "name": "python3"
  },
  "language_info": {
   "codemirror_mode": {
    "name": "ipython",
    "version": 3
   },
   "file_extension": ".py",
   "mimetype": "text/x-python",
   "name": "python",
   "nbconvert_exporter": "python",
   "pygments_lexer": "ipython3",
   "version": "3.7.6"
  }
 },
 "nbformat": 4,
 "nbformat_minor": 4
}
